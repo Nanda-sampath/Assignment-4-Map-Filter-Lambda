{
 "cells": [
  {
   "cell_type": "code",
   "execution_count": 3,
   "id": "821dbf47",
   "metadata": {},
   "outputs": [
    {
     "name": "stdout",
     "output_type": "stream",
     "text": [
      "35\n"
     ]
    }
   ],
   "source": [
    "#Write a Python program to create a lambda function that adds 25 to a given number passed in as an argument.\n",
    "def fun(n):\n",
    "     return lambda a: a+n\n",
    "\n",
    "doubler = fun(10)\n",
    "print(doubler(25))"
   ]
  },
  {
   "cell_type": "code",
   "execution_count": 6,
   "id": "826c3d15",
   "metadata": {},
   "outputs": [
    {
     "name": "stdout",
     "output_type": "stream",
     "text": [
      "[3, 6, 9, 12, 15, 18, 21]\n"
     ]
    }
   ],
   "source": [
    "#Write a Python program to triple all numbers of a given list of integers. Use Python map.\n",
    "n = [1,2,3,4,5,6,7] \n",
    "def add_with_ifself(n):\n",
    "    return n+n+n     \n",
    "output = map(add_with_ifself,n)\n",
    "final_output = list(output)\n",
    "print(final_output)"
   ]
  },
  {
   "cell_type": "code",
   "execution_count": 8,
   "id": "869659c1",
   "metadata": {},
   "outputs": [
    {
     "name": "stdout",
     "output_type": "stream",
     "text": [
      "[16, 25, 4, 81]\n"
     ]
    }
   ],
   "source": [
    "#Write a Python program to square the elements of a list using map() function.\n",
    "n = [4,5,2,9] \n",
    "def square(elem):\n",
    "    return elem*elem\n",
    "obj = map(square,n)\n",
    "op = list(obj)\n",
    "print(op)"
   ]
  },
  {
   "cell_type": "code",
   "execution_count": null,
   "id": "78f5e6f7",
   "metadata": {},
   "outputs": [],
   "source": []
  }
 ],
 "metadata": {
  "kernelspec": {
   "display_name": "Python 3 (ipykernel)",
   "language": "python",
   "name": "python3"
  },
  "language_info": {
   "codemirror_mode": {
    "name": "ipython",
    "version": 3
   },
   "file_extension": ".py",
   "mimetype": "text/x-python",
   "name": "python",
   "nbconvert_exporter": "python",
   "pygments_lexer": "ipython3",
   "version": "3.9.13"
  }
 },
 "nbformat": 4,
 "nbformat_minor": 5
}
